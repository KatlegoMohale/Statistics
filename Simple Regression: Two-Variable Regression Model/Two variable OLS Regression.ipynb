{
 "cells": [
  {
   "cell_type": "code",
   "execution_count": 2,
   "metadata": {},
   "outputs": [],
   "source": [
    "import pandas\n",
    "import statsmodels.api as sm"
   ]
  },
  {
   "cell_type": "code",
   "execution_count": 12,
   "metadata": {},
   "outputs": [
    {
     "name": "stdout",
     "output_type": "stream",
     "text": [
      "                            OLS Regression Results                            \n",
      "==============================================================================\n",
      "Dep. Variable:            Hourly Wage   R-squared:                       0.908\n",
      "Model:                            OLS   Adj. R-squared:                  0.899\n",
      "Method:                 Least Squares   F-statistic:                     108.3\n",
      "Date:                Wed, 15 Jun 2022   Prob (F-statistic):           4.96e-07\n",
      "Time:                        12:46:33   Log-Likelihood:                -16.538\n",
      "No. Observations:                  13   AIC:                             37.08\n",
      "Df Residuals:                      11   BIC:                             38.21\n",
      "Df Model:                           1                                         \n",
      "Covariance Type:            nonrobust                                         \n",
      "======================================================================================\n",
      "                         coef    std err          t      P>|t|      [0.025      0.975]\n",
      "--------------------------------------------------------------------------------------\n",
      "const                 -0.0145      0.875     -0.017      0.987      -1.939       1.911\n",
      "Years of Schooling     0.7241      0.070     10.406      0.000       0.571       0.877\n",
      "==============================================================================\n",
      "Omnibus:                        0.989   Durbin-Watson:                   1.738\n",
      "Prob(Omnibus):                  0.610   Jarque-Bera (JB):                0.829\n",
      "Skew:                          -0.394   Prob(JB):                        0.661\n",
      "Kurtosis:                       2.046   Cond. No.                         42.5\n",
      "==============================================================================\n",
      "\n",
      "Notes:\n",
      "[1] Standard Errors assume that the covariance matrix of the errors is correctly specified.\n"
     ]
    }
   ],
   "source": [
    "df = pandas.read_csv(\"C:/Users/User/Desktop/datasets/education-vs-wages.csv\")\n",
    "X = df['Years of Schooling']\n",
    "Y = df['Hourly Wage']\n",
    "\n",
    "X = sm.add_constant(X)\n",
    "model = sm.OLS(Y, X).fit()\n",
    "summary = model.summary()\n",
    "print(summary)"
   ]
  },
  {
   "cell_type": "code",
   "execution_count": null,
   "metadata": {},
   "outputs": [],
   "source": []
  }
 ],
 "metadata": {
  "kernelspec": {
   "display_name": "Python 3",
   "language": "python",
   "name": "python3"
  },
  "language_info": {
   "codemirror_mode": {
    "name": "ipython",
    "version": 3
   },
   "file_extension": ".py",
   "mimetype": "text/x-python",
   "name": "python",
   "nbconvert_exporter": "python",
   "pygments_lexer": "ipython3",
   "version": "3.8.5"
  }
 },
 "nbformat": 4,
 "nbformat_minor": 4
}
